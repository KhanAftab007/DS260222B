{
 "cells": [
  {
   "cell_type": "code",
   "execution_count": 2,
   "id": "277cfad3",
   "metadata": {},
   "outputs": [
    {
     "name": "stdout",
     "output_type": "stream",
     "text": [
      "Write anything you want!\n",
      "asdf\n",
      "So, if we reverse what you have written.\n",
      "It will look something like this...\n",
      "↓↓↓↓ ↓↓↓↓ ↓↓↓↓ ↓↓↓↓ ↓↓↓↓\n",
      "fdsa"
     ]
    }
   ],
   "source": [
    "something=input(\"Write anything you want!\\n\")\n",
    "length=len(something)\n",
    "print(\"So, if we reverse what you have written.\\nIt will look something like this...\\n↓↓↓↓ ↓↓↓↓ ↓↓↓↓ ↓↓↓↓ ↓↓↓↓\")\n",
    "for i in range(length-1,-1,-1):\n",
    "    print(something[i],end=\"\")\n",
    "    #just trying to be a little creative! "
   ]
  }
 ],
 "metadata": {
  "kernelspec": {
   "display_name": "Python 3 (ipykernel)",
   "language": "python",
   "name": "python3"
  },
  "language_info": {
   "codemirror_mode": {
    "name": "ipython",
    "version": 3
   },
   "file_extension": ".py",
   "mimetype": "text/x-python",
   "name": "python",
   "nbconvert_exporter": "python",
   "pygments_lexer": "ipython3",
   "version": "3.10.2"
  }
 },
 "nbformat": 4,
 "nbformat_minor": 5
}
