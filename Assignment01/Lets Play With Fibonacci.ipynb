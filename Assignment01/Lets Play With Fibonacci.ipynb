{
 "cells": [
  {
   "cell_type": "code",
   "execution_count": 1,
   "id": "865a375e",
   "metadata": {},
   "outputs": [
    {
     "name": "stdout",
     "output_type": "stream",
     "text": [
      "let's print the first 10 fibonacci numbers:\n",
      "\n",
      "0 1 1 2 3 5 8 13 21 34 "
     ]
    }
   ],
   "source": [
    "print(\"let's print the first 10 fibonacci numbers:\\n\")\n",
    "#as we know to get fibonacci series we just have to add previous 2 numbers to get the new one.\n",
    "#just by following for loop with a range we can attain and fulfil the formula \"Fn = Fn-1 + Fn-2\"\n",
    "first=0\n",
    "second=1\n",
    "total=0\n",
    "for i in range (0,10): #we can get more numbers by just increasing the range\n",
    "        print(total,end=\" \")\n",
    "        first=second\n",
    "        second=total\n",
    "        total=first+second\n",
    "        "
   ]
  }
 ],
 "metadata": {
  "kernelspec": {
   "display_name": "Python 3 (ipykernel)",
   "language": "python",
   "name": "python3"
  },
  "language_info": {
   "codemirror_mode": {
    "name": "ipython",
    "version": 3
   },
   "file_extension": ".py",
   "mimetype": "text/x-python",
   "name": "python",
   "nbconvert_exporter": "python",
   "pygments_lexer": "ipython3",
   "version": "3.10.2"
  }
 },
 "nbformat": 4,
 "nbformat_minor": 5
}
